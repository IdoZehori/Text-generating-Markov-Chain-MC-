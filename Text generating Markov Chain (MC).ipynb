{
 "cells": [
  {
   "cell_type": "code",
   "execution_count": 1,
   "metadata": {
    "collapsed": false
   },
   "outputs": [],
   "source": [
    "import pandas as pd\n",
    "import numpy as np\n",
    "import matplotlib.pyplot as plt\n",
    "import seaborn as sns\n",
    "from nltk import ngrams\n",
    "%matplotlib inline"
   ]
  },
  {
   "cell_type": "markdown",
   "metadata": {},
   "source": [
    "# Markov Chain "
   ]
  },
  {
   "cell_type": "markdown",
   "metadata": {},
   "source": [
    "##### Make n-grams"
   ]
  },
  {
   "cell_type": "code",
   "execution_count": 4,
   "metadata": {
    "collapsed": false
   },
   "outputs": [],
   "source": [
    "n = 3\n",
    "grams = list(ngrams(text.split(), n))"
   ]
  },
  {
   "cell_type": "markdown",
   "metadata": {},
   "source": [
    "##### Data prep"
   ]
  },
  {
   "cell_type": "code",
   "execution_count": 5,
   "metadata": {
    "collapsed": false
   },
   "outputs": [],
   "source": [
    "gramDict = {}\n",
    "uniqueGrams = list(set(grams))\n",
    "for item in uniqueGrams:\n",
    "    gramDict[item] = []"
   ]
  },
  {
   "cell_type": "markdown",
   "metadata": {},
   "source": [
    "##### Generate the list of possible next words and assign probabilities"
   ]
  },
  {
   "cell_type": "code",
   "execution_count": 6,
   "metadata": {
    "collapsed": false
   },
   "outputs": [],
   "source": [
    "def getNextWord(index):\n",
    "    for i in range(len(grams)):\n",
    "        try:\n",
    "            if ((index == grams[i]) & (str(grams[i+1][n-1]).isalpha())):\n",
    "                yield str(grams[i+1][n-1])\n",
    "        except IndexError:\n",
    "            continue"
   ]
  },
  {
   "cell_type": "markdown",
   "metadata": {},
   "source": [
    "##### Function to generate Markov text"
   ]
  },
  {
   "cell_type": "code",
   "execution_count": 7,
   "metadata": {
    "collapsed": false
   },
   "outputs": [],
   "source": [
    "def generateText(grams=grams, length = 5):\n",
    "    sent = []\n",
    "    seed = grams[np.random.randint(0,len(grams))]\n",
    "    sent.append(str(seed[0]))\n",
    "    sent.append(str(seed[1]))\n",
    "    sent.append(str(seed[2]))\n",
    "    \n",
    "    for i in range(length):\n",
    "        w1 = sent[-3]\n",
    "        w2 = sent[-2]\n",
    "        w3 = sent[-1]\n",
    "        nextChoise = list(getNextWord((w1,w2, w3)))\n",
    "        nextSelectedWord = np.random.choice(nextChoise)\n",
    "        sent.append(nextSelectedWord)\n",
    "        \n",
    "    sentString = ''\n",
    "    for word in sent:\n",
    "        sentString += str(word) + ' '\n",
    "        \n",
    "    return sentString"
   ]
  },
  {
   "cell_type": "markdown",
   "metadata": {},
   "source": [
    "##### Load the data: all of Nietzsche's works from a text file:\n",
    "\n",
    "Source: https://archive.org/stream/completenietasch10nietuoft/completenietasch10nietuoft_djvu.txt"
   ]
  },
  {
   "cell_type": "code",
   "execution_count": 2,
   "metadata": {
    "collapsed": false,
    "scrolled": true
   },
   "outputs": [],
   "source": [
    "file_ = open('NIETZSCHE.txt')"
   ]
  },
  {
   "cell_type": "code",
   "execution_count": 3,
   "metadata": {
    "collapsed": false
   },
   "outputs": [],
   "source": [
    "from nltk.tokenize import TextTilingTokenizer\n",
    "from nltk.tokenize import word_tokenize"
   ]
  },
  {
   "cell_type": "code",
   "execution_count": 4,
   "metadata": {
    "collapsed": true
   },
   "outputs": [],
   "source": [
    "tt = TextTilingTokenizer()"
   ]
  },
  {
   "cell_type": "code",
   "execution_count": 5,
   "metadata": {
    "collapsed": false
   },
   "outputs": [],
   "source": [
    "text = file_.readlines()"
   ]
  },
  {
   "cell_type": "code",
   "execution_count": 6,
   "metadata": {
    "collapsed": false
   },
   "outputs": [],
   "source": [
    "textTok = []\n",
    "for line in text:\n",
    "    if len(line) > 1:\n",
    "        try:\n",
    "            textTok.append(word_tokenize(line))\n",
    "        except UnicodeDecodeError:\n",
    "            continue"
   ]
  },
  {
   "cell_type": "code",
   "execution_count": 7,
   "metadata": {
    "collapsed": false
   },
   "outputs": [],
   "source": [
    "textTokClean = []\n",
    "for line in textTok:\n",
    "    for word in line:\n",
    "        if word.isalpha():\n",
    "            textTokClean.append(word.lower())"
   ]
  },
  {
   "cell_type": "code",
   "execution_count": 8,
   "metadata": {
    "collapsed": false
   },
   "outputs": [],
   "source": [
    "textTokCleanString = ''\n",
    "for word in textTokClean:\n",
    "    textTokCleanString += str(word) + ' '"
   ]
  },
  {
   "cell_type": "markdown",
   "metadata": {},
   "source": [
    "##### Write the clean version to a file"
   ]
  },
  {
   "cell_type": "code",
   "execution_count": 9,
   "metadata": {
    "collapsed": false
   },
   "outputs": [],
   "source": [
    "textFile = open(\"Output.txt\", \"w\")\n",
    "textFile.write(textTokCleanString)\n",
    "textFile.close()"
   ]
  },
  {
   "cell_type": "code",
   "execution_count": 3,
   "metadata": {
    "collapsed": false
   },
   "outputs": [
    {
     "name": "stdout",
     "output_type": "stream",
     "text": [
      "('corpus length:', 451339)\n"
     ]
    }
   ],
   "source": [
    "text = open('Output.txt').read().lower()\n",
    "print('corpus length:', len(text))"
   ]
  },
  {
   "cell_type": "markdown",
   "metadata": {},
   "source": [
    "# Generate Markov text"
   ]
  },
  {
   "cell_type": "code",
   "execution_count": 16,
   "metadata": {
    "collapsed": false
   },
   "outputs": [
    {
     "name": "stdout",
     "output_type": "stream",
     "text": [
      "1. Wit even in their greatest exploit are not the jews the inventors of sin was rarely a great trouble but christians stood subsequently how to do justice however desirable it may be found to be so his character is more in love with it and it is at least more easily understood thaln \n",
      "\n",
      "2. A man to lau a man who loves like a woman becomes thereby a more perfect woman the passion of the beloved woman in uow does it happen that warm and rainy winds bring the musical mood and the inventive delight in melody with them are they not obliged first of all surmount \n",
      "\n",
      "3. Them constantly shows itself legitimately superior and born to by its noble presence the commonest man feels that nobility is not to be prejudices concerning prejudices presuppose a position outside of morality some the joyful wisdom hi for many that they do is first of all have had to a the joyful wisdom \n",
      "\n",
      "4. For the thinker to know for the internal happiness and misery of men have always come to them through their belief in dreams the waking state seemed to them treason against rome as the embodiment of foreignness be to know the motives according to which the true and the false were determined throughout \n",
      "\n",
      "5. New against it for although it is evident to me i do not want to be our most persistent lie morality as a k defect in personality revenges itself everywhere an enfeebled lank obliterated and disowning ality is no longer fit for anything it is least of all fellowship in joy i work \n",
      "\n",
      "6. On the blood of german barbarians and thus lost its ascendency the more universally and unconditionally an individual or the thought of our former r but our life i too short and our power of vision too limited for sanctus januarius us to be more than a foreseeing deity according as the formula \n",
      "\n",
      "7. These impulses learned to understand their juxtaposition and regard themselves as functions of one organising force in one man and how far are we still perhaps too much of the german language for one may seek in vain for more execrable sounds in europe something mocking cold indifferent and careless in the voice \n",
      "\n"
     ]
    }
   ],
   "source": [
    "numberOfParagraphs = 7\n",
    "wordsInParagraph = 50\n",
    "for i in range(numberOfParagraphs):\n",
    "    p = generateText(length=wordsInParagraph)\n",
    "    print str(i+1) + '.' + ' ' + p[0].upper() + p[1:] + '\\n'"
   ]
  }
 ],
 "metadata": {
  "anaconda-cloud": {},
  "kernelspec": {
   "display_name": "Python [Root]",
   "language": "python",
   "name": "Python [Root]"
  },
  "language_info": {
   "codemirror_mode": {
    "name": "ipython",
    "version": 2
   },
   "file_extension": ".py",
   "mimetype": "text/x-python",
   "name": "python",
   "nbconvert_exporter": "python",
   "pygments_lexer": "ipython2",
   "version": "2.7.12"
  }
 },
 "nbformat": 4,
 "nbformat_minor": 0
}
